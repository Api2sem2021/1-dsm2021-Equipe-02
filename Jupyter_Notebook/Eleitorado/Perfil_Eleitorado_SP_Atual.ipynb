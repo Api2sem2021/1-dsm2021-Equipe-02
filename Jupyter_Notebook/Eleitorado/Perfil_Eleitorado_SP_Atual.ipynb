{
 "cells": [
  {
   "cell_type": "markdown",
   "metadata": {},
   "source": [
    "# Perfil do eleitorado do Estado de São Paulo - Atual\n",
    "\n",
    "**Arquivo extraído do repositório de dados públicos do TSE: https://bityli.com/X3ZhU**<br> \n",
    "**Página inicial > eleitorado > atual > perfil eleitorado por seção atual > São Paulo**<br>\n",
    "<br>\n",
    "<br>\n",
    "<br>\n",
    "Este notebook contém:\n",
    "- Tabela de Faixa Etária do Estado de São Paulo.\n",
    "- Gráfico de Faixa Etária do estado de São Paulo.\n",
    "- Tabela de Faixa Etária da cidade de São José dos Campos\n",
    "- Gráfico de Faixa Etária da cidade de São José dos Campos.\n",
    "- Tabela de Estado Civil do Estado de São Paulo.\n",
    "- Gráfico de Estado Civil do Estado de São Paulo.\n",
    "- Tabela de Estado Civil da cidade de São José dos Campos.\n",
    "- Gráfico de Estado Civil da cidade de São José dos Campos.\n",
    "- Tabela de Grau de Escolaridade do estado de São Paulo.\n",
    "- Gráfico de Grau de Escolaridade do estado de São Paulo.\n",
    "- Tabela de Grau de Escolaridade da cidade de São José dos Campos.\n",
    "- Gráfico de Grau de Escolaridade da cidade de São José dos Campos.\n",
    "- Inscrições de Nome Social no Estado de São Paulo.\n",
    "\n",
    "<br>\n",
    "\n",
    "São José dos Campos é utilizada como base para todos os códigos, em cada categoria há instrução de como alterar a pesquisa para outra cidade<br>\n",
    "<br>\n",
    "**Atenção!**<br>\n",
    "*Siga as intruções de configuração de ambiente do leia-me para que os códigos sejam executados corretamente*<br>\n",
    "*Execute novamente as células após realizar qualquer alteração*"
   ]
  },
  {
   "cell_type": "markdown",
   "metadata": {},
   "source": [
    "## Importação das bibliotecas utilizadas:"
   ]
  },
  {
   "cell_type": "code",
   "execution_count": 1,
   "metadata": {},
   "outputs": [],
   "source": [
    "import pandas as pd\n",
    "import matplotlib.pyplot as plt\n",
    "import numpy as np"
   ]
  },
  {
   "cell_type": "markdown",
   "metadata": {},
   "source": [
    "## Leitura do arquivo CSV\n",
    "Atente para alterar o local onde o arquivo está salvo. Para arquivos salvos no seu usuário, o caminho correto é \"C:/Users/**seu_user**/perfil_eleitor_secao_ATUAL_SP.csv\"<br>\n",
    "O arquivo será lido e as informações armazenadas em uma variável chamada df"
   ]
  },
  {
   "cell_type": "code",
   "execution_count": 2,
   "metadata": {},
   "outputs": [],
   "source": [
    "df = pd.read_csv(\"C:/Users/Rafael/perfil_eleitor_secao_ATUAL_SP.csv\", sep=\";\", error_bad_lines=False, encoding='Latin 1')"
   ]
  },
  {
   "cell_type": "markdown",
   "metadata": {},
   "source": [
    "## Nomes das colunas do arquivo:"
   ]
  },
  {
   "cell_type": "code",
   "execution_count": 3,
   "metadata": {
    "scrolled": false
   },
   "outputs": [
    {
     "name": "stdout",
     "output_type": "stream",
     "text": [
      "<class 'pandas.core.frame.DataFrame'>\n",
      "RangeIndex: 15298684 entries, 0 to 15298683\n",
      "Data columns (total 22 columns):\n",
      " #   Column                      Dtype \n",
      "---  ------                      ----- \n",
      " 0   DT_GERACAO                  object\n",
      " 1   HH_GERACAO                  object\n",
      " 2   ANO_ELEICAO                 int64 \n",
      " 3   SG_UF                       object\n",
      " 4   CD_MUNICIPIO                int64 \n",
      " 5   NM_MUNICIPIO                object\n",
      " 6   CD_MUN_SIT_BIOMETRIA        int64 \n",
      " 7   DS_MUN_SIT_BIOMETRIA        object\n",
      " 8   NR_ZONA                     int64 \n",
      " 9   NR_SECAO                    int64 \n",
      " 10  CD_GENERO                   int64 \n",
      " 11  DS_GENERO                   object\n",
      " 12  CD_ESTADO_CIVIL             int64 \n",
      " 13  DS_ESTADO_CIVIL             object\n",
      " 14  CD_FAIXA_ETARIA             int64 \n",
      " 15  DS_FAIXA_ETARIA             object\n",
      " 16  CD_GRAU_ESCOLARIDADE        int64 \n",
      " 17  DS_GRAU_ESCOLARIDADE        object\n",
      " 18  QT_ELEITORES_PERFIL         int64 \n",
      " 19  QT_ELEITORES_BIOMETRIA      int64 \n",
      " 20  QT_ELEITORES_DEFICIENCIA    int64 \n",
      " 21  QT_ELEITORES_INC_NM_SOCIAL  int64 \n",
      "dtypes: int64(13), object(9)\n",
      "memory usage: 2.5+ GB\n"
     ]
    }
   ],
   "source": [
    "df.info()"
   ]
  },
  {
   "cell_type": "markdown",
   "metadata": {},
   "source": [
    "## Amostra dos dados:\n",
    "(Para uma descrição sobre o conteúdo de cada coluna consulte o LEIAME.pdf do \"perfil_eleitor_secao_ATUAL_SP.csv\".)"
   ]
  },
  {
   "cell_type": "code",
   "execution_count": 4,
   "metadata": {
    "scrolled": true
   },
   "outputs": [
    {
     "data": {
      "text/html": [
       "<div>\n",
       "<style scoped>\n",
       "    .dataframe tbody tr th:only-of-type {\n",
       "        vertical-align: middle;\n",
       "    }\n",
       "\n",
       "    .dataframe tbody tr th {\n",
       "        vertical-align: top;\n",
       "    }\n",
       "\n",
       "    .dataframe thead th {\n",
       "        text-align: right;\n",
       "    }\n",
       "</style>\n",
       "<table border=\"1\" class=\"dataframe\">\n",
       "  <thead>\n",
       "    <tr style=\"text-align: right;\">\n",
       "      <th></th>\n",
       "      <th>DT_GERACAO</th>\n",
       "      <th>HH_GERACAO</th>\n",
       "      <th>ANO_ELEICAO</th>\n",
       "      <th>SG_UF</th>\n",
       "      <th>CD_MUNICIPIO</th>\n",
       "      <th>NM_MUNICIPIO</th>\n",
       "      <th>CD_MUN_SIT_BIOMETRIA</th>\n",
       "      <th>DS_MUN_SIT_BIOMETRIA</th>\n",
       "      <th>NR_ZONA</th>\n",
       "      <th>NR_SECAO</th>\n",
       "      <th>...</th>\n",
       "      <th>CD_ESTADO_CIVIL</th>\n",
       "      <th>DS_ESTADO_CIVIL</th>\n",
       "      <th>CD_FAIXA_ETARIA</th>\n",
       "      <th>DS_FAIXA_ETARIA</th>\n",
       "      <th>CD_GRAU_ESCOLARIDADE</th>\n",
       "      <th>DS_GRAU_ESCOLARIDADE</th>\n",
       "      <th>QT_ELEITORES_PERFIL</th>\n",
       "      <th>QT_ELEITORES_BIOMETRIA</th>\n",
       "      <th>QT_ELEITORES_DEFICIENCIA</th>\n",
       "      <th>QT_ELEITORES_INC_NM_SOCIAL</th>\n",
       "    </tr>\n",
       "  </thead>\n",
       "  <tbody>\n",
       "    <tr>\n",
       "      <th>0</th>\n",
       "      <td>09/04/2021</td>\n",
       "      <td>11:52:18</td>\n",
       "      <td>9999</td>\n",
       "      <td>SP</td>\n",
       "      <td>63134</td>\n",
       "      <td>CARAPICUÍBA</td>\n",
       "      <td>-2</td>\n",
       "      <td>Não se aplica</td>\n",
       "      <td>303</td>\n",
       "      <td>372</td>\n",
       "      <td>...</td>\n",
       "      <td>9</td>\n",
       "      <td>DIVORCIADO</td>\n",
       "      <td>5559</td>\n",
       "      <td>55 a 59 anos</td>\n",
       "      <td>6</td>\n",
       "      <td>ENSINO MÉDIO COMPLETO</td>\n",
       "      <td>1</td>\n",
       "      <td>1</td>\n",
       "      <td>0</td>\n",
       "      <td>0</td>\n",
       "    </tr>\n",
       "    <tr>\n",
       "      <th>1</th>\n",
       "      <td>09/04/2021</td>\n",
       "      <td>11:52:18</td>\n",
       "      <td>9999</td>\n",
       "      <td>SP</td>\n",
       "      <td>63134</td>\n",
       "      <td>CARAPICUÍBA</td>\n",
       "      <td>-2</td>\n",
       "      <td>Não se aplica</td>\n",
       "      <td>303</td>\n",
       "      <td>372</td>\n",
       "      <td>...</td>\n",
       "      <td>9</td>\n",
       "      <td>DIVORCIADO</td>\n",
       "      <td>6569</td>\n",
       "      <td>65 a 69 anos</td>\n",
       "      <td>3</td>\n",
       "      <td>ENSINO FUNDAMENTAL INCOMPLETO</td>\n",
       "      <td>1</td>\n",
       "      <td>1</td>\n",
       "      <td>0</td>\n",
       "      <td>0</td>\n",
       "    </tr>\n",
       "    <tr>\n",
       "      <th>2</th>\n",
       "      <td>09/04/2021</td>\n",
       "      <td>11:52:18</td>\n",
       "      <td>9999</td>\n",
       "      <td>SP</td>\n",
       "      <td>63134</td>\n",
       "      <td>CARAPICUÍBA</td>\n",
       "      <td>-2</td>\n",
       "      <td>Não se aplica</td>\n",
       "      <td>303</td>\n",
       "      <td>373</td>\n",
       "      <td>...</td>\n",
       "      <td>1</td>\n",
       "      <td>SOLTEIRO</td>\n",
       "      <td>1900</td>\n",
       "      <td>19 anos</td>\n",
       "      <td>7</td>\n",
       "      <td>SUPERIOR INCOMPLETO</td>\n",
       "      <td>1</td>\n",
       "      <td>1</td>\n",
       "      <td>0</td>\n",
       "      <td>0</td>\n",
       "    </tr>\n",
       "    <tr>\n",
       "      <th>3</th>\n",
       "      <td>09/04/2021</td>\n",
       "      <td>11:52:18</td>\n",
       "      <td>9999</td>\n",
       "      <td>SP</td>\n",
       "      <td>63134</td>\n",
       "      <td>CARAPICUÍBA</td>\n",
       "      <td>-2</td>\n",
       "      <td>Não se aplica</td>\n",
       "      <td>303</td>\n",
       "      <td>373</td>\n",
       "      <td>...</td>\n",
       "      <td>1</td>\n",
       "      <td>SOLTEIRO</td>\n",
       "      <td>3539</td>\n",
       "      <td>35 a 39 anos</td>\n",
       "      <td>3</td>\n",
       "      <td>ENSINO FUNDAMENTAL INCOMPLETO</td>\n",
       "      <td>4</td>\n",
       "      <td>0</td>\n",
       "      <td>0</td>\n",
       "      <td>0</td>\n",
       "    </tr>\n",
       "    <tr>\n",
       "      <th>4</th>\n",
       "      <td>09/04/2021</td>\n",
       "      <td>11:52:18</td>\n",
       "      <td>9999</td>\n",
       "      <td>SP</td>\n",
       "      <td>63134</td>\n",
       "      <td>CARAPICUÍBA</td>\n",
       "      <td>-2</td>\n",
       "      <td>Não se aplica</td>\n",
       "      <td>303</td>\n",
       "      <td>373</td>\n",
       "      <td>...</td>\n",
       "      <td>1</td>\n",
       "      <td>SOLTEIRO</td>\n",
       "      <td>5559</td>\n",
       "      <td>55 a 59 anos</td>\n",
       "      <td>6</td>\n",
       "      <td>ENSINO MÉDIO COMPLETO</td>\n",
       "      <td>1</td>\n",
       "      <td>0</td>\n",
       "      <td>0</td>\n",
       "      <td>0</td>\n",
       "    </tr>\n",
       "  </tbody>\n",
       "</table>\n",
       "<p>5 rows × 22 columns</p>\n",
       "</div>"
      ],
      "text/plain": [
       "   DT_GERACAO HH_GERACAO  ANO_ELEICAO SG_UF  CD_MUNICIPIO NM_MUNICIPIO  \\\n",
       "0  09/04/2021   11:52:18         9999    SP         63134  CARAPICUÍBA   \n",
       "1  09/04/2021   11:52:18         9999    SP         63134  CARAPICUÍBA   \n",
       "2  09/04/2021   11:52:18         9999    SP         63134  CARAPICUÍBA   \n",
       "3  09/04/2021   11:52:18         9999    SP         63134  CARAPICUÍBA   \n",
       "4  09/04/2021   11:52:18         9999    SP         63134  CARAPICUÍBA   \n",
       "\n",
       "   CD_MUN_SIT_BIOMETRIA DS_MUN_SIT_BIOMETRIA  NR_ZONA  NR_SECAO  ...  \\\n",
       "0                    -2        Não se aplica      303       372  ...   \n",
       "1                    -2        Não se aplica      303       372  ...   \n",
       "2                    -2        Não se aplica      303       373  ...   \n",
       "3                    -2        Não se aplica      303       373  ...   \n",
       "4                    -2        Não se aplica      303       373  ...   \n",
       "\n",
       "   CD_ESTADO_CIVIL DS_ESTADO_CIVIL  CD_FAIXA_ETARIA  \\\n",
       "0                9      DIVORCIADO             5559   \n",
       "1                9      DIVORCIADO             6569   \n",
       "2                1        SOLTEIRO             1900   \n",
       "3                1        SOLTEIRO             3539   \n",
       "4                1        SOLTEIRO             5559   \n",
       "\n",
       "                  DS_FAIXA_ETARIA  CD_GRAU_ESCOLARIDADE  \\\n",
       "0  55 a 59 anos                                       6   \n",
       "1  65 a 69 anos                                       3   \n",
       "2  19 anos                                            7   \n",
       "3  35 a 39 anos                                       3   \n",
       "4  55 a 59 anos                                       6   \n",
       "\n",
       "            DS_GRAU_ESCOLARIDADE  QT_ELEITORES_PERFIL QT_ELEITORES_BIOMETRIA  \\\n",
       "0          ENSINO MÉDIO COMPLETO                    1                      1   \n",
       "1  ENSINO FUNDAMENTAL INCOMPLETO                    1                      1   \n",
       "2            SUPERIOR INCOMPLETO                    1                      1   \n",
       "3  ENSINO FUNDAMENTAL INCOMPLETO                    4                      0   \n",
       "4          ENSINO MÉDIO COMPLETO                    1                      0   \n",
       "\n",
       "   QT_ELEITORES_DEFICIENCIA  QT_ELEITORES_INC_NM_SOCIAL  \n",
       "0                         0                           0  \n",
       "1                         0                           0  \n",
       "2                         0                           0  \n",
       "3                         0                           0  \n",
       "4                         0                           0  \n",
       "\n",
       "[5 rows x 22 columns]"
      ]
     },
     "execution_count": 4,
     "metadata": {},
     "output_type": "execute_result"
    }
   ],
   "source": [
    "df.head()"
   ]
  },
  {
   "cell_type": "markdown",
   "metadata": {},
   "source": [
    "## Tabela de Faixa Etária do Estado de São Paulo\n"
   ]
  },
  {
   "cell_type": "markdown",
   "metadata": {},
   "source": [
    "**Tabela de faixa etária do estado de SP sem porcentagem:**\n",
    "    "
   ]
  },
  {
   "cell_type": "code",
   "execution_count": 5,
   "metadata": {},
   "outputs": [
    {
     "data": {
      "text/plain": [
       "DS_FAIXA_ETARIA\n",
       "100 anos ou mais                    13278\n",
       "16 anos                              8964\n",
       "17 anos                             82882\n",
       "18 anos                            264724\n",
       "19 anos                            455151\n",
       "20 anos                            580044\n",
       "21 a 24 anos                      2544519\n",
       "25 a 29 anos                      3015200\n",
       "30 a 34 anos                      3185176\n",
       "35 a 39 anos                      3428120\n",
       "40 a 44 anos                      3257753\n",
       "45 a 49 anos                      2932488\n",
       "50 a 54 anos                      2739990\n",
       "55 a 59 anos                      2573877\n",
       "60 a 64 anos                      2203965\n",
       "65 a 69 anos                      1732117\n",
       "70 a 74 anos                      1146100\n",
       "75 a 79 anos                       662941\n",
       "80 a 84 anos                       402582\n",
       "85 a 89 anos                       215499\n",
       "90 a 94 anos                       133967\n",
       "95 a 99 anos                        82966\n",
       "Inválido                              311\n",
       "Name: QT_ELEITORES_PERFIL, dtype: int64"
      ]
     },
     "execution_count": 5,
     "metadata": {},
     "output_type": "execute_result"
    }
   ],
   "source": [
    "TabelaFaixaEtaria = df.groupby(['DS_FAIXA_ETARIA'])['QT_ELEITORES_PERFIL'].sum()\n",
    "TabelaFaixaEtaria"
   ]
  },
  {
   "cell_type": "markdown",
   "metadata": {},
   "source": [
    "**Tabela de faixa etária do estado de SP com porcentagem:**"
   ]
  },
  {
   "cell_type": "code",
   "execution_count": 6,
   "metadata": {
    "scrolled": false
   },
   "outputs": [
    {
     "data": {
      "text/html": [
       "<div>\n",
       "<style scoped>\n",
       "    .dataframe tbody tr th:only-of-type {\n",
       "        vertical-align: middle;\n",
       "    }\n",
       "\n",
       "    .dataframe tbody tr th {\n",
       "        vertical-align: top;\n",
       "    }\n",
       "\n",
       "    .dataframe thead th {\n",
       "        text-align: right;\n",
       "    }\n",
       "</style>\n",
       "<table border=\"1\" class=\"dataframe\">\n",
       "  <thead>\n",
       "    <tr style=\"text-align: right;\">\n",
       "      <th></th>\n",
       "      <th>QT_ELEITORES_PERFIL</th>\n",
       "      <th>%</th>\n",
       "    </tr>\n",
       "    <tr>\n",
       "      <th>DS_FAIXA_ETARIA</th>\n",
       "      <th></th>\n",
       "      <th></th>\n",
       "    </tr>\n",
       "  </thead>\n",
       "  <tbody>\n",
       "    <tr>\n",
       "      <th>Inválido</th>\n",
       "      <td>311</td>\n",
       "      <td>0.00%</td>\n",
       "    </tr>\n",
       "    <tr>\n",
       "      <th>16 anos</th>\n",
       "      <td>8964</td>\n",
       "      <td>0.03%</td>\n",
       "    </tr>\n",
       "    <tr>\n",
       "      <th>100 anos ou mais</th>\n",
       "      <td>13278</td>\n",
       "      <td>0.04%</td>\n",
       "    </tr>\n",
       "    <tr>\n",
       "      <th>17 anos</th>\n",
       "      <td>82882</td>\n",
       "      <td>0.26%</td>\n",
       "    </tr>\n",
       "    <tr>\n",
       "      <th>95 a 99 anos</th>\n",
       "      <td>82966</td>\n",
       "      <td>0.26%</td>\n",
       "    </tr>\n",
       "    <tr>\n",
       "      <th>90 a 94 anos</th>\n",
       "      <td>133967</td>\n",
       "      <td>0.42%</td>\n",
       "    </tr>\n",
       "    <tr>\n",
       "      <th>85 a 89 anos</th>\n",
       "      <td>215499</td>\n",
       "      <td>0.68%</td>\n",
       "    </tr>\n",
       "    <tr>\n",
       "      <th>18 anos</th>\n",
       "      <td>264724</td>\n",
       "      <td>0.84%</td>\n",
       "    </tr>\n",
       "    <tr>\n",
       "      <th>80 a 84 anos</th>\n",
       "      <td>402582</td>\n",
       "      <td>1.27%</td>\n",
       "    </tr>\n",
       "    <tr>\n",
       "      <th>19 anos</th>\n",
       "      <td>455151</td>\n",
       "      <td>1.44%</td>\n",
       "    </tr>\n",
       "    <tr>\n",
       "      <th>20 anos</th>\n",
       "      <td>580044</td>\n",
       "      <td>1.83%</td>\n",
       "    </tr>\n",
       "    <tr>\n",
       "      <th>75 a 79 anos</th>\n",
       "      <td>662941</td>\n",
       "      <td>2.09%</td>\n",
       "    </tr>\n",
       "    <tr>\n",
       "      <th>70 a 74 anos</th>\n",
       "      <td>1146100</td>\n",
       "      <td>3.62%</td>\n",
       "    </tr>\n",
       "    <tr>\n",
       "      <th>65 a 69 anos</th>\n",
       "      <td>1732117</td>\n",
       "      <td>5.47%</td>\n",
       "    </tr>\n",
       "    <tr>\n",
       "      <th>60 a 64 anos</th>\n",
       "      <td>2203965</td>\n",
       "      <td>6.96%</td>\n",
       "    </tr>\n",
       "    <tr>\n",
       "      <th>21 a 24 anos</th>\n",
       "      <td>2544519</td>\n",
       "      <td>8.04%</td>\n",
       "    </tr>\n",
       "    <tr>\n",
       "      <th>55 a 59 anos</th>\n",
       "      <td>2573877</td>\n",
       "      <td>8.13%</td>\n",
       "    </tr>\n",
       "    <tr>\n",
       "      <th>50 a 54 anos</th>\n",
       "      <td>2739990</td>\n",
       "      <td>8.65%</td>\n",
       "    </tr>\n",
       "    <tr>\n",
       "      <th>45 a 49 anos</th>\n",
       "      <td>2932488</td>\n",
       "      <td>9.26%</td>\n",
       "    </tr>\n",
       "    <tr>\n",
       "      <th>25 a 29 anos</th>\n",
       "      <td>3015200</td>\n",
       "      <td>9.52%</td>\n",
       "    </tr>\n",
       "    <tr>\n",
       "      <th>30 a 34 anos</th>\n",
       "      <td>3185176</td>\n",
       "      <td>10.06%</td>\n",
       "    </tr>\n",
       "    <tr>\n",
       "      <th>40 a 44 anos</th>\n",
       "      <td>3257753</td>\n",
       "      <td>10.29%</td>\n",
       "    </tr>\n",
       "    <tr>\n",
       "      <th>35 a 39 anos</th>\n",
       "      <td>3428120</td>\n",
       "      <td>10.83%</td>\n",
       "    </tr>\n",
       "  </tbody>\n",
       "</table>\n",
       "</div>"
      ],
      "text/plain": [
       "                                QT_ELEITORES_PERFIL       %\n",
       "DS_FAIXA_ETARIA                                            \n",
       "Inválido                                        311   0.00%\n",
       "16 anos                                        8964   0.03%\n",
       "100 anos ou mais                              13278   0.04%\n",
       "17 anos                                       82882   0.26%\n",
       "95 a 99 anos                                  82966   0.26%\n",
       "90 a 94 anos                                 133967   0.42%\n",
       "85 a 89 anos                                 215499   0.68%\n",
       "18 anos                                      264724   0.84%\n",
       "80 a 84 anos                                 402582   1.27%\n",
       "19 anos                                      455151   1.44%\n",
       "20 anos                                      580044   1.83%\n",
       "75 a 79 anos                                 662941   2.09%\n",
       "70 a 74 anos                                1146100   3.62%\n",
       "65 a 69 anos                                1732117   5.47%\n",
       "60 a 64 anos                                2203965   6.96%\n",
       "21 a 24 anos                                2544519   8.04%\n",
       "55 a 59 anos                                2573877   8.13%\n",
       "50 a 54 anos                                2739990   8.65%\n",
       "45 a 49 anos                                2932488   9.26%\n",
       "25 a 29 anos                                3015200   9.52%\n",
       "30 a 34 anos                                3185176  10.06%\n",
       "40 a 44 anos                                3257753  10.29%\n",
       "35 a 39 anos                                3428120  10.83%"
      ]
     },
     "execution_count": 6,
     "metadata": {},
     "output_type": "execute_result"
    }
   ],
   "source": [
    "TabelaFaixaEtariaEst = df.groupby(['DS_FAIXA_ETARIA'])['QT_ELEITORES_PERFIL'].sum().sort_values()\n",
    "TabelaFaixaEtariaEstDF = pd.DataFrame(TabelaFaixaEtariaEst)\n",
    "\n",
    "pct = []\n",
    "for x in TabelaFaixaEtariaEst:\n",
    "    b = (100*x/TabelaFaixaEtariaEst.sum())\n",
    "    b = f'{b:.2f}%'\n",
    "    pct.append(b)\n",
    "\n",
    "TabelaFaixaEtariaEstComPorc = TabelaFaixaEtariaEstDF\n",
    "TabelaFaixaEtariaEstComPorc.insert(loc=1, column='%', value=pct)\n",
    "TabelaFaixaEtariaEstComPorc"
   ]
  },
  {
   "cell_type": "markdown",
   "metadata": {},
   "source": [
    "**Total de eleitores do Estado de São Paulo nesse arquivo:**"
   ]
  },
  {
   "cell_type": "code",
   "execution_count": 7,
   "metadata": {},
   "outputs": [
    {
     "data": {
      "text/plain": [
       "31662614"
      ]
     },
     "execution_count": 7,
     "metadata": {},
     "output_type": "execute_result"
    }
   ],
   "source": [
    "TabelaFaixaEtariaEst.sum()"
   ]
  },
  {
   "cell_type": "markdown",
   "metadata": {},
   "source": [
    "## Gráfico de Faixa Etária do estado de São Paulo \n"
   ]
  },
  {
   "cell_type": "code",
   "execution_count": 8,
   "metadata": {},
   "outputs": [
    {
     "data": {
      "image/png": "[encoded data removed]",
      "text/plain": [
       "<Figure size 1152x720 with 1 Axes>"
      ]
     },
     "metadata": {
      "needs_background": "light"
     },
     "output_type": "display_data"
    }
   ],
   "source": [
    "TabelaFaixaEtariaEst.plot(kind='barh', figsize=(16,10))\n",
    "plt.ylabel('FAIXA ETÁRIA')\n",
    "plt.xlabel('ELEITORADO (MILHÕES)')\n",
    "plt.grid(linestyle = '--', linewidth = 0.5)\n"
   ]
  },
  {
   "cell_type": "markdown",
   "metadata": {},
   "source": [
    "## Agrupamento dos eleitores do Estado por faixa de idade, entre jovens, adultos e idosos:\n",
    "Observação: esse agrupamento não considera os valores do campo 'inválido'"
   ]
  },
  {
   "cell_type": "code",
   "execution_count": 9,
   "metadata": {},
   "outputs": [],
   "source": [
    "TabelaFaixaEtariaJovem = TabelaFaixaEtaria[1:8]\n",
    "TabelaFaixaEtariaAdulto = TabelaFaixaEtaria[8:14] \n",
    "TabelaFaixaEtariaIdoso = TabelaFaixaEtaria[14:22] "
   ]
  },
  {
   "cell_type": "code",
   "execution_count": 10,
   "metadata": {},
   "outputs": [
    {
     "data": {
      "text/html": [
       "<div>\n",
       "<style scoped>\n",
       "    .dataframe tbody tr th:only-of-type {\n",
       "        vertical-align: middle;\n",
       "    }\n",
       "\n",
       "    .dataframe tbody tr th {\n",
       "        vertical-align: top;\n",
       "    }\n",
       "\n",
       "    .dataframe thead th {\n",
       "        text-align: right;\n",
       "    }\n",
       "</style>\n",
       "<table border=\"1\" class=\"dataframe\">\n",
       "  <thead>\n",
       "    <tr style=\"text-align: right;\">\n",
       "      <th></th>\n",
       "      <th>Estado de São Paulo</th>\n",
       "    </tr>\n",
       "  </thead>\n",
       "  <tbody>\n",
       "    <tr>\n",
       "      <th>Jovens até 29 anos</th>\n",
       "      <td>6951484</td>\n",
       "    </tr>\n",
       "    <tr>\n",
       "      <th>Adultos</th>\n",
       "      <td>18117404</td>\n",
       "    </tr>\n",
       "    <tr>\n",
       "      <th>Idosos a partir de 60</th>\n",
       "      <td>6593415</td>\n",
       "    </tr>\n",
       "  </tbody>\n",
       "</table>\n",
       "</div>"
      ],
      "text/plain": [
       "                       Estado de São Paulo\n",
       "Jovens até 29 anos                 6951484\n",
       "Adultos                           18117404\n",
       "Idosos a partir de 60              6593415"
      ]
     },
     "execution_count": 10,
     "metadata": {},
     "output_type": "execute_result"
    }
   ],
   "source": [
    "dataframe = pd.DataFrame({'Estado de São Paulo':[TabelaFaixaEtariaJovem.sum(),\\\n",
    "                        TabelaFaixaEtariaAdulto.sum(),(TabelaFaixaEtariaIdoso.sum()+(int(TabelaFaixaEtaria[0:1])))]},\n",
    "                        index = ['Jovens até 29 anos', 'Adultos', 'Idosos a partir de 60']) \n",
    "dataframe"
   ]
  },
  {
   "cell_type": "markdown",
   "metadata": {},
   "source": [
    "Soma dos valores, desconsiderando o campo 'inválido':"
   ]
  },
  {
   "cell_type": "code",
   "execution_count": 11,
   "metadata": {},
   "outputs": [
    {
     "data": {
      "text/plain": [
       "Estado de São Paulo    31662303\n",
       "dtype: int64"
      ]
     },
     "execution_count": 11,
     "metadata": {},
     "output_type": "execute_result"
    }
   ],
   "source": [
    "dataframe.sum()"
   ]
  },
  {
   "cell_type": "code",
   "execution_count": 12,
   "metadata": {
    "scrolled": false
   },
   "outputs": [
    {
     "data": {
      "image/png": "[encoded data removed]",
      "text/plain": [
       "<Figure size 1152x720 with 1 Axes>"
      ]
     },
     "metadata": {
      "needs_background": "light"
     },
     "output_type": "display_data"
    }
   ],
   "source": [
    "dataframe.plot(kind='barh', figsize=(16,10))\n",
    "plt.ylabel('FAIXA ETÁRIA')\n",
    "plt.xlabel('ELEITORADO (x10 MILHÕES)')\n",
    "plt.grid(linestyle = '--', linewidth = 0.5)\n"
   ]
  },
  {
   "cell_type": "markdown",
   "metadata": {},
   "source": [
    "## Tabela de Faixa Etária da cidade de São José dos Campos\n",
    "Para consultar outras cidades, substituir pelo nome da cidade desejada, com todas as letras maiúsculas, acentos e cedilha<br>\n",
    "Exemplo de consulta de Jacareí:\n",
    "~~~~python\n",
    "('NM_MUNICIPIO == \"JACAREÍ\"')\n",
    "~~~~\n",
    "Atenção para as aspas, após o nome da cidade há aspas duplas e simples\n"
   ]
  },
  {
   "cell_type": "markdown",
   "metadata": {},
   "source": [
    "**Tabela de faixa etária do município sem porcentagem:**"
   ]
  },
  {
   "cell_type": "code",
   "execution_count": 13,
   "metadata": {},
   "outputs": [
    {
     "data": {
      "text/plain": [
       "DS_FAIXA_ETARIA\n",
       "16 anos                              80\n",
       "17 anos                            1226\n",
       "18 anos                            4536\n",
       "19 anos                            7488\n",
       "20 anos                            9403\n",
       "21 a 24 anos                      39672\n",
       "25 a 29 anos                      45339\n",
       "30 a 34 anos                      49393\n",
       "35 a 39 anos                      54230\n",
       "40 a 44 anos                      51476\n",
       "45 a 49 anos                      44899\n",
       "50 a 54 anos                      41370\n",
       "55 a 59 anos                      39339\n",
       "60 a 64 anos                      34430\n",
       "65 a 69 anos                      27209\n",
       "70 a 74 anos                      15661\n",
       "75 a 79 anos                       6261\n",
       "80 a 84 anos                       2325\n",
       "85 a 89 anos                        736\n",
       "90 a 94 anos                        177\n",
       "95 a 99 anos                         36\n",
       "Inválido                              2\n",
       "Name: QT_ELEITORES_PERFIL, dtype: int64"
      ]
     },
     "execution_count": 13,
     "metadata": {},
     "output_type": "execute_result"
    }
   ],
   "source": [
    "TabelaFaixaEtariaMunicipioSemPor = df.query('NM_MUNICIPIO == \"SÃO JOSÉ DOS CAMPOS\"').groupby(['DS_FAIXA_ETARIA'])\\\n",
    "['QT_ELEITORES_PERFIL'].sum()\n",
    "TabelaFaixaEtariaMunicipioSemPor"
   ]
  },
  {
   "cell_type": "markdown",
   "metadata": {},
   "source": [
    "**Tabela de faixa etária do município com porcentagem:**"
   ]
  },
  {
   "cell_type": "code",
   "execution_count": 14,
   "metadata": {},
   "outputs": [
    {
     "data": {
      "text/html": [
       "<div>\n",
       "<style scoped>\n",
       "    .dataframe tbody tr th:only-of-type {\n",
       "        vertical-align: middle;\n",
       "    }\n",
       "\n",
       "    .dataframe tbody tr th {\n",
       "        vertical-align: top;\n",
       "    }\n",
       "\n",
       "    .dataframe thead th {\n",
       "        text-align: right;\n",
       "    }\n",
       "</style>\n",
       "<table border=\"1\" class=\"dataframe\">\n",
       "  <thead>\n",
       "    <tr style=\"text-align: right;\">\n",
       "      <th></th>\n",
       "      <th>QT_ELEITORES_PERFIL</th>\n",
       "      <th>%</th>\n",
       "    </tr>\n",
       "    <tr>\n",
       "      <th>DS_FAIXA_ETARIA</th>\n",
       "      <th></th>\n",
       "      <th></th>\n",
       "    </tr>\n",
       "  </thead>\n",
       "  <tbody>\n",
       "    <tr>\n",
       "      <th>Inválido</th>\n",
       "      <td>2</td>\n",
       "      <td>0.00%</td>\n",
       "    </tr>\n",
       "    <tr>\n",
       "      <th>95 a 99 anos</th>\n",
       "      <td>36</td>\n",
       "      <td>0.01%</td>\n",
       "    </tr>\n",
       "    <tr>\n",
       "      <th>16 anos</th>\n",
       "      <td>80</td>\n",
       "      <td>0.02%</td>\n",
       "    </tr>\n",
       "    <tr>\n",
       "      <th>90 a 94 anos</th>\n",
       "      <td>177</td>\n",
       "      <td>0.04%</td>\n",
       "    </tr>\n",
       "    <tr>\n",
       "      <th>85 a 89 anos</th>\n",
       "      <td>736</td>\n",
       "      <td>0.15%</td>\n",
       "    </tr>\n",
       "    <tr>\n",
       "      <th>17 anos</th>\n",
       "      <td>1226</td>\n",
       "      <td>0.26%</td>\n",
       "    </tr>\n",
       "    <tr>\n",
       "      <th>80 a 84 anos</th>\n",
       "      <td>2325</td>\n",
       "      <td>0.49%</td>\n",
       "    </tr>\n",
       "    <tr>\n",
       "      <th>18 anos</th>\n",
       "      <td>4536</td>\n",
       "      <td>0.95%</td>\n",
       "    </tr>\n",
       "    <tr>\n",
       "      <th>75 a 79 anos</th>\n",
       "      <td>6261</td>\n",
       "      <td>1.32%</td>\n",
       "    </tr>\n",
       "    <tr>\n",
       "      <th>19 anos</th>\n",
       "      <td>7488</td>\n",
       "      <td>1.58%</td>\n",
       "    </tr>\n",
       "    <tr>\n",
       "      <th>20 anos</th>\n",
       "      <td>9403</td>\n",
       "      <td>1.98%</td>\n",
       "    </tr>\n",
       "    <tr>\n",
       "      <th>70 a 74 anos</th>\n",
       "      <td>15661</td>\n",
       "      <td>3.30%</td>\n",
       "    </tr>\n",
       "    <tr>\n",
       "      <th>65 a 69 anos</th>\n",
       "      <td>27209</td>\n",
       "      <td>5.72%</td>\n",
       "    </tr>\n",
       "    <tr>\n",
       "      <th>60 a 64 anos</th>\n",
       "      <td>34430</td>\n",
       "      <td>7.24%</td>\n",
       "    </tr>\n",
       "    <tr>\n",
       "      <th>55 a 59 anos</th>\n",
       "      <td>39339</td>\n",
       "      <td>8.28%</td>\n",
       "    </tr>\n",
       "    <tr>\n",
       "      <th>21 a 24 anos</th>\n",
       "      <td>39672</td>\n",
       "      <td>8.35%</td>\n",
       "    </tr>\n",
       "    <tr>\n",
       "      <th>50 a 54 anos</th>\n",
       "      <td>41370</td>\n",
       "      <td>8.70%</td>\n",
       "    </tr>\n",
       "    <tr>\n",
       "      <th>45 a 49 anos</th>\n",
       "      <td>44899</td>\n",
       "      <td>9.45%</td>\n",
       "    </tr>\n",
       "    <tr>\n",
       "      <th>25 a 29 anos</th>\n",
       "      <td>45339</td>\n",
       "      <td>9.54%</td>\n",
       "    </tr>\n",
       "    <tr>\n",
       "      <th>30 a 34 anos</th>\n",
       "      <td>49393</td>\n",
       "      <td>10.39%</td>\n",
       "    </tr>\n",
       "    <tr>\n",
       "      <th>40 a 44 anos</th>\n",
       "      <td>51476</td>\n",
       "      <td>10.83%</td>\n",
       "    </tr>\n",
       "    <tr>\n",
       "      <th>35 a 39 anos</th>\n",
       "      <td>54230</td>\n",
       "      <td>11.41%</td>\n",
       "    </tr>\n",
       "  </tbody>\n",
       "</table>\n",
       "</div>"
      ],
      "text/plain": [
       "                                QT_ELEITORES_PERFIL       %\n",
       "DS_FAIXA_ETARIA                                            \n",
       "Inválido                                          2   0.00%\n",
       "95 a 99 anos                                     36   0.01%\n",
       "16 anos                                          80   0.02%\n",
       "90 a 94 anos                                    177   0.04%\n",
       "85 a 89 anos                                    736   0.15%\n",
       "17 anos                                        1226   0.26%\n",
       "80 a 84 anos                                   2325   0.49%\n",
       "18 anos                                        4536   0.95%\n",
       "75 a 79 anos                                   6261   1.32%\n",
       "19 anos                                        7488   1.58%\n",
       "20 anos                                        9403   1.98%\n",
       "70 a 74 anos                                  15661   3.30%\n",
       "65 a 69 anos                                  27209   5.72%\n",
       "60 a 64 anos                                  34430   7.24%\n",
       "55 a 59 anos                                  39339   8.28%\n",
       "21 a 24 anos                                  39672   8.35%\n",
       "50 a 54 anos                                  41370   8.70%\n",
       "45 a 49 anos                                  44899   9.45%\n",
       "25 a 29 anos                                  45339   9.54%\n",
       "30 a 34 anos                                  49393  10.39%\n",
       "40 a 44 anos                                  51476  10.83%\n",
       "35 a 39 anos                                  54230  11.41%"
      ]
     },
     "execution_count": 14,
     "metadata": {},
     "output_type": "execute_result"
    }
   ],
   "source": [
    "TabelaEtariaMunicipio = df.query('NM_MUNICIPIO == \"SÃO JOSÉ DOS CAMPOS\"').groupby(['DS_FAIXA_ETARIA'])\\\n",
    "['QT_ELEITORES_PERFIL'].sum().sort_values()\n",
    "TabelaEtariaMunicipioDF = pd.DataFrame(TabelaEtariaMunicipio)\n",
    "\n",
    "por_lista = []\n",
    "for x in TabelaEtariaMunicipio:\n",
    "    p = (100*x/TabelaEtariaMunicipio.sum())\n",
    "    p = f'{p:.2f}%'\n",
    "    por_lista.append(p)\n",
    "\n",
    "TabelaEtariaMunicipioComPorc = TabelaEtariaMunicipioDF\n",
    "TabelaEtariaMunicipioComPorc.insert(loc=1, column='%', value=por_lista)\n",
    "TabelaEtariaMunicipioComPorc"
   ]
  },
  {
   "cell_type": "markdown",
   "metadata": {},
   "source": [
    "**Total de eleitores da cidade:**"
   ]
  },
  {
   "cell_type": "code",
   "execution_count": 15,
   "metadata": {},
   "outputs": [
    {
     "data": {
      "text/plain": [
       "475288"
      ]
     },
     "execution_count": 15,
     "metadata": {},
     "output_type": "execute_result"
    }
   ],
   "source": [
    "TabelaFaixaEtariaMunicipioSemPor.sum()"
   ]
  },
  {
   "cell_type": "markdown",
   "metadata": {},
   "source": [
    "## Gráfico de Faixa Etária da cidade de São José dos Campos\n",
    "**IMPORTANTE!** <br>\n",
    "Para consultar outra cidade, alterar o nome da cidade em *Tabela de faixa etária do município sem porcentegem* acima e executar as células novamente<br>\n"
   ]
  },
  {
   "cell_type": "code",
   "execution_count": 16,
   "metadata": {
    "scrolled": false
   },
   "outputs": [
    {
     "data": {
      "image/png": "[encoded data removed]",
      "text/plain": [
       "<Figure size 1152x720 with 1 Axes>"
      ]
     },
     "metadata": {
      "needs_background": "light"
     },
     "output_type": "display_data"
    }
   ],
   "source": [
    "TabelaFaixaEtariaMunicipioSemPor.plot(kind='barh', figsize=(16,10))\n",
    "plt.ylabel('FAIXA ETÁRIA')\n",
    "plt.grid(linestyle = '--', linewidth = 0.5)\n"
   ]
  },
  {
   "cell_type": "markdown",
   "metadata": {},
   "source": [
    "## Agrupamento da faixa etária da cidade por jovens de até 29 anos, adultos e idosos\n",
    "    Caso exista um campo 'inválido' esse agrupamento o desconsidera \n",
    "**IMPORTANTE!** <br>\n",
    "Para consultar outra cidade, alterar o nome da cidade em *Tabela de faixa etária do município sem porcentegem* acima e executar as células novamente<br>"
   ]
  },
  {
   "cell_type": "code",
   "execution_count": 17,
   "metadata": {},
   "outputs": [],
   "source": [
    "if len(TabelaFaixaEtariaMunicipioSemPor) == 23:\n",
    "    TabelaEtariaJovemMunicipio = TabelaFaixaEtariaMunicipioSemPor[1:8] \n",
    "    TabelaEtariaAdultoMunicipio = TabelaFaixaEtariaMunicipioSemPor[8:14] \n",
    "    TabelaEtariaIdosoMunicipio = TabelaFaixaEtariaMunicipioSemPor[14:22] \n",
    "else:\n",
    "    TabelaEtariaJovemMunicipio = TabelaFaixaEtariaMunicipioSemPor[0:8] \n",
    "    TabelaEtariaAdultoMunicipio = TabelaFaixaEtariaMunicipioSemPor[8:14] \n",
    "    TabelaEtariaIdosoMunicipio = TabelaFaixaEtariaMunicipioSemPor[14:21] \n",
    "\n"
   ]
  },
  {
   "cell_type": "markdown",
   "metadata": {},
   "source": [
    "Insira o nome da cidade que está realizando a consulta, isso altera a etiqueta do canto superior dirteito do próximo gráfico:"
   ]
  },
  {
   "cell_type": "code",
   "execution_count": 18,
   "metadata": {
    "scrolled": false
   },
   "outputs": [
    {
     "data": {
      "text/html": [
       "<div>\n",
       "<style scoped>\n",
       "    .dataframe tbody tr th:only-of-type {\n",
       "        vertical-align: middle;\n",
       "    }\n",
       "\n",
       "    .dataframe tbody tr th {\n",
       "        vertical-align: top;\n",
       "    }\n",
       "\n",
       "    .dataframe thead th {\n",
       "        text-align: right;\n",
       "    }\n",
       "</style>\n",
       "<table border=\"1\" class=\"dataframe\">\n",
       "  <thead>\n",
       "    <tr style=\"text-align: right;\">\n",
       "      <th></th>\n",
       "      <th>Nome_da_CIdade</th>\n",
       "    </tr>\n",
       "  </thead>\n",
       "  <tbody>\n",
       "    <tr>\n",
       "      <th>Jovens até 29 anos</th>\n",
       "      <td>157137</td>\n",
       "    </tr>\n",
       "    <tr>\n",
       "      <th>Adultos</th>\n",
       "      <td>265744</td>\n",
       "    </tr>\n",
       "    <tr>\n",
       "      <th>Idosos a partir de 60</th>\n",
       "      <td>52405</td>\n",
       "    </tr>\n",
       "  </tbody>\n",
       "</table>\n",
       "</div>"
      ],
      "text/plain": [
       "                       Nome_da_CIdade\n",
       "Jovens até 29 anos             157137\n",
       "Adultos                        265744\n",
       "Idosos a partir de 60           52405"
      ]
     },
     "execution_count": 18,
     "metadata": {},
     "output_type": "execute_result"
    }
   ],
   "source": [
    "if len(TabelaFaixaEtariaMunicipioSemPor) == 23:\n",
    "    dataframeMunicipio = pd.DataFrame({'Nome_da_Cidade':[TabelaEtariaJovemMunicipio.sum(),\\\n",
    "                        TabelaEtariaAdultoMunicipio.sum(),(TabelaEtariaIdosoMunicipio.sum()\\\n",
    "                        +(int(TabelaFaixaEtariaMunicipioSemPor[0:1])))]},\n",
    "                        index = ['Jovens até 29 anos', 'Adultos', 'Idosos a partir de 60'])\n",
    "else:\n",
    "    dataframeMunicipio = pd.DataFrame({'Nome_da_CIdade':[TabelaEtariaJovemMunicipio.sum(),\\\n",
    "                        TabelaEtariaAdultoMunicipio.sum(),TabelaEtariaIdosoMunicipio.sum()]},\n",
    "                        index = ['Jovens até 29 anos', 'Adultos', 'Idosos a partir de 60'])\n",
    "dataframeMunicipio\n"
   ]
  },
  {
   "cell_type": "markdown",
   "metadata": {},
   "source": [
    "Soma dos campos do agrupamento, desconsiderando o campo 'inválido' se houver:"
   ]
  },
  {
   "cell_type": "code",
   "execution_count": 19,
   "metadata": {},
   "outputs": [
    {
     "data": {
      "text/plain": [
       "Nome_da_CIdade    475286\n",
       "dtype: int64"
      ]
     },
     "execution_count": 19,
     "metadata": {},
     "output_type": "execute_result"
    }
   ],
   "source": [
    "dataframeMunicipio.sum()"
   ]
  },
  {
   "cell_type": "code",
   "execution_count": 20,
   "metadata": {},
   "outputs": [
    {
     "data": {
      "image/png": "[encoded data removed]",
      "text/plain": [
       "<Figure size 1152x576 with 1 Axes>"
      ]
     },
     "metadata": {
      "needs_background": "light"
     },
     "output_type": "display_data"
    }
   ],
   "source": [
    "dataframeMunicipio.plot(kind='barh', figsize=(16,8))\n",
    "plt.ylabel('FAIXA ETÁRIA AGRUPADA')\n",
    "plt.grid(linestyle = '--', linewidth = 0.5)\n"
   ]
  },
  {
   "cell_type": "markdown",
   "metadata": {},
   "source": [
    "## Tabela de eleitores por estado civil do Estado de São Paulo\n"
   ]
  },
  {
   "cell_type": "code",
   "execution_count": 21,
   "metadata": {},
   "outputs": [
    {
     "data": {
      "text/html": [
       "<div>\n",
       "<style scoped>\n",
       "    .dataframe tbody tr th:only-of-type {\n",
       "        vertical-align: middle;\n",
       "    }\n",
       "\n",
       "    .dataframe tbody tr th {\n",
       "        vertical-align: top;\n",
       "    }\n",
       "\n",
       "    .dataframe thead th {\n",
       "        text-align: right;\n",
       "    }\n",
       "</style>\n",
       "<table border=\"1\" class=\"dataframe\">\n",
       "  <thead>\n",
       "    <tr style=\"text-align: right;\">\n",
       "      <th></th>\n",
       "      <th>QT_ELEITORES_PERFIL</th>\n",
       "      <th>%</th>\n",
       "    </tr>\n",
       "    <tr>\n",
       "      <th>DS_ESTADO_CIVIL</th>\n",
       "      <th></th>\n",
       "      <th></th>\n",
       "    </tr>\n",
       "  </thead>\n",
       "  <tbody>\n",
       "    <tr>\n",
       "      <th>NÃO INFORMADO</th>\n",
       "      <td>16923</td>\n",
       "      <td>0.05%</td>\n",
       "    </tr>\n",
       "    <tr>\n",
       "      <th>SEPARADO JUDICIALMENTE</th>\n",
       "      <td>412576</td>\n",
       "      <td>1.30%</td>\n",
       "    </tr>\n",
       "    <tr>\n",
       "      <th>VIÚVO</th>\n",
       "      <td>955499</td>\n",
       "      <td>3.02%</td>\n",
       "    </tr>\n",
       "    <tr>\n",
       "      <th>DIVORCIADO</th>\n",
       "      <td>1666404</td>\n",
       "      <td>5.26%</td>\n",
       "    </tr>\n",
       "    <tr>\n",
       "      <th>CASADO</th>\n",
       "      <td>12382029</td>\n",
       "      <td>39.11%</td>\n",
       "    </tr>\n",
       "    <tr>\n",
       "      <th>SOLTEIRO</th>\n",
       "      <td>16229183</td>\n",
       "      <td>51.26%</td>\n",
       "    </tr>\n",
       "  </tbody>\n",
       "</table>\n",
       "</div>"
      ],
      "text/plain": [
       "                        QT_ELEITORES_PERFIL       %\n",
       "DS_ESTADO_CIVIL                                    \n",
       "NÃO INFORMADO                         16923   0.05%\n",
       "SEPARADO JUDICIALMENTE               412576   1.30%\n",
       "VIÚVO                                955499   3.02%\n",
       "DIVORCIADO                          1666404   5.26%\n",
       "CASADO                             12382029  39.11%\n",
       "SOLTEIRO                           16229183  51.26%"
      ]
     },
     "execution_count": 21,
     "metadata": {},
     "output_type": "execute_result"
    }
   ],
   "source": [
    "TabelaEstadoCivilEst = df.groupby(['DS_ESTADO_CIVIL'])['QT_ELEITORES_PERFIL'].sum().sort_values()\n",
    "TabelaEstadoCivilEstDF = pd.DataFrame(TabelaEstadoCivilEst)\n",
    "\n",
    "por_est = []\n",
    "for x in TabelaEstadoCivilEst:\n",
    "    a = (100*x/TabelaEstadoCivilEst.sum())\n",
    "    a = f'{a:.2f}%'\n",
    "    por_est.append(a)\n",
    "\n",
    "TabelaEstadoCivilEstComPorc = TabelaEstadoCivilEstDF\n",
    "TabelaEstadoCivilEstComPorc.insert(loc=1, column='%', value=por_est)\n",
    "TabelaEstadoCivilEstComPorc"
   ]
  },
  {
   "cell_type": "markdown",
   "metadata": {},
   "source": [
    "## Gráfico de estado civil do estado de São Paulo \n",
    "\n"
   ]
  },
  {
   "cell_type": "code",
   "execution_count": 22,
   "metadata": {},
   "outputs": [
    {
     "data": {
      "image/png": "[encoded data removed]",
      "text/plain": [
       "<Figure size 1152x720 with 1 Axes>"
      ]
     },
     "metadata": {
      "needs_background": "light"
     },
     "output_type": "display_data"
    }
   ],
   "source": [
    "TabelaEstadoCivilEst.plot(kind='barh', figsize=(16,10))\n",
    "plt.ylabel('ESTADO CIVIL')\n",
    "plt.xlabel('ELEITORADO (x10 MILHÕES)')\n",
    "plt.grid(linestyle = '--', linewidth = 0.5)\n"
   ]
  },
  {
   "cell_type": "markdown",
   "metadata": {},
   "source": [
    "## Tabela de Estado Civil da cidade de São José dos Campos\n",
    "Para consultar outras cidades, substituir pelo nome da cidade desejada, com todas as letras maiúsculas, acentos e cedilha<br>\n",
    "Exemplo de consulta de Jacareí:\n",
    "~~~~python\n",
    "('NM_MUNICIPIO == \"JACAREÍ\"')\n",
    "~~~~\n",
    "Atenção para as aspas, após o nome da cidade há aspas duplas e simples"
   ]
  },
  {
   "cell_type": "code",
   "execution_count": null,
   "metadata": {},
   "outputs": [],
   "source": [
    "TabelaEstadoCivilMunicipio = df.query('NM_MUNICIPIO == \"SÃO JOSÉ DOS CAMPOS\"').groupby(['DS_ESTADO_CIVIL'])\\\n",
    "['QT_ELEITORES_PERFIL'].sum().sort_values()\n",
    "TabelaEstadoCivilMunicipioDF = pd.DataFrame(TabelaEstadoCivilMunicipio)\n",
    "\n",
    "porcentagemlist = []\n",
    "for x in TabelaEstadoCivilMunicipio:\n",
    "    porcentagem = (100*x/TabelaEstadoCivilMunicipio.sum())\n",
    "    porcentagem = f'{porcentagem:.2f}%'\n",
    "    porcentagemlist.append(porcentagem)\n",
    "\n",
    "TabelaEstadoCivilMunicipioComPorc = TabelaEstadoCivilMunicipioDF\n",
    "TabelaEstadoCivilMunicipioComPorc.insert(loc=1, column='%', value=porcentagemlist)\n",
    "TabelaEstadoCivilMunicipioComPorc"
   ]
  },
  {
   "cell_type": "code",
   "execution_count": null,
   "metadata": {},
   "outputs": [],
   "source": [
    "TabelaEstadoCivilMunicipio.sum()"
   ]
  },
  {
   "cell_type": "markdown",
   "metadata": {},
   "source": [
    "## Gráfico de Estado Civil da cidade de São José dos Campos\n",
    "Para consultar outra cidade, alterar o nome da cidade em TabelaEstadoCivil acima e executar as células novamente<br>\n",
    "\n"
   ]
  },
  {
   "cell_type": "code",
   "execution_count": null,
   "metadata": {
    "scrolled": false
   },
   "outputs": [],
   "source": [
    "TabelaEstadoCivilMunicipio.plot(kind='barh', figsize=(16,10))\n",
    "plt.ylabel('ESTADO CIVIL')\n",
    "plt.grid(linestyle = '--', linewidth = 0.5)"
   ]
  },
  {
   "cell_type": "markdown",
   "metadata": {},
   "source": [
    "## Tabela de Grau de Escolaridade do Estado de São Paulo"
   ]
  },
  {
   "cell_type": "code",
   "execution_count": null,
   "metadata": {},
   "outputs": [],
   "source": [
    "TabelaEscolaridadeEst = df.groupby(['DS_GRAU_ESCOLARIDADE'])['QT_ELEITORES_PERFIL'].sum().sort_values()\n",
    "TabelaEscolaridadeEstDF = pd.DataFrame(TabelaEscolaridadeEst)\n",
    "\n",
    "pl = []\n",
    "for x in TabelaEscolaridadeEst:\n",
    "    per = (100*x/TabelaEscolaridadeEst.sum())\n",
    "    per = f'{per:.2f}%'\n",
    "    pl.append(per)\n",
    "\n",
    "TabelaEscolaridadelEstComPorc = TabelaEscolaridadeEstDF\n",
    "TabelaEscolaridadelEstComPorc.insert(loc=1, column='%', value=pl)\n",
    "TabelaEscolaridadelEstComPorc\n"
   ]
  },
  {
   "cell_type": "markdown",
   "metadata": {},
   "source": [
    "## Gráfico de Grau de Escolaridade do estado de São Paulo\n",
    "Para consultar outra cidade, alterar o nome da cidade em TabelGrauEscolaridade acima e executar as células novamente<br>\n"
   ]
  },
  {
   "cell_type": "code",
   "execution_count": null,
   "metadata": {
    "scrolled": false
   },
   "outputs": [],
   "source": [
    "TabelaEscolaridadeEst.plot(kind='barh', figsize=(16,10))\n",
    "plt.ylabel('GRAU DE ESCOLARIDADE')\n",
    "plt.xlabel('ELEITORADO (MILHOES)')\n",
    "plt.grid(linestyle = '--', linewidth = 0.5)\n"
   ]
  },
  {
   "cell_type": "markdown",
   "metadata": {},
   "source": [
    "## Tabela de Grau de Escolaridade da cidade de São José dos Campos\n",
    "Para consultar outras cidades, substituir pelo nome da cidade desejada, com todas as letras maiúsculas, acentos e cedilha<br>\n",
    "Exemplo de consulta de Jacareí:\n",
    "~~~python\n",
    "('NM_MUNICIPIO == \"JACAREÍ\"')\n",
    "~~~\n",
    "Atenção para as aspas, após o nome da cidade há aspas duplas e simples"
   ]
  },
  {
   "cell_type": "code",
   "execution_count": null,
   "metadata": {},
   "outputs": [],
   "source": [
    "TabelaEscolaridadeMunicipio = df.query('NM_MUNICIPIO == \"SÃO JOSÉ DOS CAMPOS\"').groupby(['DS_GRAU_ESCOLARIDADE'])\\\n",
    "['QT_ELEITORES_PERFIL'].sum().sort_values()\n",
    "TabelaEscolaridadeMunicipioDF = pd.DataFrame(TabelaEscolaridadeMunicipio)\n",
    "\n",
    "porcentagem_escolaridade = []\n",
    "for x in TabelaEscolaridadeMunicipio:\n",
    "    por = (100*x/TabelaEscolaridadeMunicipio.sum())\n",
    "    por = f'{por:.2f}%'\n",
    "    porcentagem_escolaridade.append(por)\n",
    "porcentagem_escolaridade\n",
    "\n",
    "TabelaEscolaridadeMunicipioComPorc = TabelaEscolaridadeMunicipioDF\n",
    "TabelaEscolaridadeMunicipioComPorc.insert(loc=1, column='%', value=porcentagem_escolaridade)\n",
    "TabelaEscolaridadeMunicipioComPorc"
   ]
  },
  {
   "cell_type": "code",
   "execution_count": null,
   "metadata": {},
   "outputs": [],
   "source": [
    "TabelaEscolaridadeMunicipio.sum()"
   ]
  },
  {
   "cell_type": "markdown",
   "metadata": {},
   "source": [
    "## Gráfico de Grau de Escolaridade da cidade de São José dos Campos\n",
    "Para consultar outra cidade, alterar o nome da cidade em TabelaGrauEscolaridadeMunicipio acima e executar as células novamente<br>\n",
    "\n",
    "\n"
   ]
  },
  {
   "cell_type": "code",
   "execution_count": null,
   "metadata": {},
   "outputs": [],
   "source": [
    "TabelaEscolaridadeMunicipio.plot(kind='barh', figsize=(16,10))\n",
    "plt.ylabel('GRAU DE ESCOLARIDADE')\n",
    "plt.xlabel('ELEITORADO')\n",
    "plt.grid(linestyle = '--', linewidth = 0.5)\n"
   ]
  },
  {
   "cell_type": "markdown",
   "metadata": {},
   "source": [
    "## Número de eleitores com nome social estado de SP\n",
    "Quantitativo de eleitores aptos que solicitaram inclusão de nome social em seu cadastrado junto à Justiça Eleitoral<br>\n",
    "0 = não solicitaram <br>\n",
    "1 = solicitaram <br>\n",
    "Observação: não é possível identificar o que seria a occorrência marcada com 2, devido à baixa ocorrência em comparação ao volume de eleitores, pode ser erro de cadastro"
   ]
  },
  {
   "cell_type": "code",
   "execution_count": null,
   "metadata": {},
   "outputs": [],
   "source": [
    "TabelaNomeSocialEst = df.groupby(['QT_ELEITORES_INC_NM_SOCIAL'])['QT_ELEITORES_PERFIL'].sum()\n",
    "TabelaNomeSocialEst"
   ]
  },
  {
   "cell_type": "markdown",
   "metadata": {},
   "source": [
    "## Número de eleitores com nome social estado da cidade de São José dos Campos\n",
    "Alterar o nome da cidade para aquela que deseja consultar"
   ]
  },
  {
   "cell_type": "code",
   "execution_count": null,
   "metadata": {},
   "outputs": [],
   "source": [
    "TabelaNomeSocialMun = df.query('NM_MUNICIPIO == \"SÃO JOSÉ DOS CAMPOS\"').groupby(['QT_ELEITORES_INC_NM_SOCIAL'])\\\n",
    "['QT_ELEITORES_PERFIL'].sum()\n",
    "TabelaNomeSocialMun"
   ]
  }
 ],
 "metadata": {
  "kernelspec": {
   "display_name": "Python 3",
   "language": "python",
   "name": "python3"
  },
  "language_info": {
   "codemirror_mode": {
    "name": "ipython",
    "version": 3
   },
   "file_extension": ".py",
   "mimetype": "text/x-python",
   "name": "python",
   "nbconvert_exporter": "python",
   "pygments_lexer": "ipython3",
   "version": "3.9.4"
  },
  "toc": {
   "base_numbering": 1,
   "nav_menu": {},
   "number_sections": false,
   "sideBar": false,
   "skip_h1_title": false,
   "title_cell": "Table of Contents",
   "title_sidebar": "Contents",
   "toc_cell": false,
   "toc_position": {},
   "toc_section_display": false,
   "toc_window_display": false
  }
 },
 "nbformat": 4,
 "nbformat_minor": 4
}
